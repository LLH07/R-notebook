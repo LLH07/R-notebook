{
 "cells": [
  {
   "cell_type": "markdown",
   "metadata": {},
   "source": [
    "## Function:"
   ]
  },
  {
   "cell_type": "markdown",
   "metadata": {},
   "source": [
    "- Function 在 R 裡是一個 <font color='red'> object </font>。\n",
    "- Function 在 R 理是 <font color='red'> first class objects </font>:\n",
    "    - Function 可以被當成 arguments，傳入另一個 function。\n",
    "    - 可以有 <font color='red'> nested function </font>。也就是 function 裡面還有 function。\n",
    "- Function 的 return value 是 function body 內的 <font color='red'> 最後一個 expression</font>。"
   ]
  },
  {
   "cell_type": "markdown",
   "metadata": {},
   "source": [
    "### Fuction arguments:"
   ]
  },
  {
   "cell_type": "markdown",
   "metadata": {},
   "source": [
    "- formal arguments: 在 define function 時設的 arguments。\n",
    "- 用 ```formals(function 名稱)```可以列出 function 有哪些 formal arguments。\n",
    "- 不是每個 argument 都會用到。\n",
    "- 在傳入 arguments 時，可以只傳入 argument 名稱的前幾個字(但要確保 R 找的到)。"
   ]
  },
  {
   "cell_type": "markdown",
   "metadata": {},
   "source": [
    "### Lazy Evaluation:"
   ]
  },
  {
   "cell_type": "markdown",
   "metadata": {},
   "source": [
    "R 只在需要 function 的 argument 時，才會去找那個 argument 是否存在。\n",
    "舉例:  \n",
    "下面我呼叫 f() 時，只傳入 45，所以 ```a = 45``` 而 b 沒有給定。  \n",
    "程式在執行 ```print(a)``` 時沒有問題，因為他找的到 argument ```a```。  \n",
    "但在 ```print(b)``` 就會發生錯誤。"
   ]
  },
  {
   "cell_type": "code",
   "execution_count": 1,
   "metadata": {
    "scrolled": true
   },
   "outputs": [
    {
     "name": "stdout",
     "output_type": "stream",
     "text": [
      "[1] 45\n"
     ]
    },
    {
     "ename": "ERROR",
     "evalue": "Error in print(b): 缺少引數 \"b\"，也沒有預設值\n",
     "output_type": "error",
     "traceback": [
      "Error in print(b): 缺少引數 \"b\"，也沒有預設值\nTraceback:\n",
      "1. f(45)",
      "2. print(b)   # at line 3 of file <text>"
     ]
    }
   ],
   "source": [
    "f <- function(a, b) {\n",
    " print(a)\n",
    " print(b)\n",
    "}\n",
    "f(45)"
   ]
  },
  {
   "cell_type": "markdown",
   "metadata": {},
   "source": [
    "## The \"...\" argument:"
   ]
  },
  {
   "cell_type": "markdown",
   "metadata": {},
   "source": [
    "在傳入 function 的 argument 時，如果想從其他 function 拿取 argument，但又不想重新寫一遍，可以用 ```...```。  \n",
    "一個應用的地方是 generic functions。"
   ]
  },
  {
   "cell_type": "code",
   "execution_count": 3,
   "metadata": {},
   "outputs": [],
   "source": [
    "myplot <- function(x, y, type = \"l\", ...) {\n",
    " plot(x, y, type = type, ...)\n",
    "}"
   ]
  },
  {
   "cell_type": "markdown",
   "metadata": {},
   "source": [
    "```...```在不知道 function 有多少 input 時也會出現，比如:"
   ]
  },
  {
   "cell_type": "code",
   "execution_count": 5,
   "metadata": {},
   "outputs": [
    {
     "data": {
      "text/html": [
       "<pre class=language-r><code>function (..., sep = \" \", collapse = NULL, recycle0 = FALSE) \n",
       "NULL</code></pre>"
      ],
      "text/latex": [
       "\\begin{minted}{r}\n",
       "function (..., sep = \" \", collapse = NULL, recycle0 = FALSE) \n",
       "NULL\n",
       "\\end{minted}"
      ],
      "text/markdown": [
       "```r\n",
       "function (..., sep = \" \", collapse = NULL, recycle0 = FALSE) \n",
       "NULL\n",
       "```"
      ],
      "text/plain": [
       "function (..., sep = \" \", collapse = NULL, recycle0 = FALSE) \n",
       "NULL"
      ]
     },
     "metadata": {},
     "output_type": "display_data"
    }
   ],
   "source": [
    "args(paste)"
   ]
  },
  {
   "cell_type": "markdown",
   "metadata": {},
   "source": [
    "```paste()```這個 function 將 object 合起來，但 ```paste()``` 一開始不會知道使用者會傳入多少 object，故要用```...```。"
   ]
  },
  {
   "cell_type": "markdown",
   "metadata": {},
   "source": [
    "要注意的是，使用```...```後，後面的 arguments 必須 <font color='red'> 照順序且不能用縮寫 </font>，舉例:"
   ]
  },
  {
   "cell_type": "code",
   "execution_count": 6,
   "metadata": {},
   "outputs": [
    {
     "data": {
      "text/html": [
       "<pre class=language-r><code>function (..., sep = \" \", collapse = NULL, recycle0 = FALSE) \n",
       "NULL</code></pre>"
      ],
      "text/latex": [
       "\\begin{minted}{r}\n",
       "function (..., sep = \" \", collapse = NULL, recycle0 = FALSE) \n",
       "NULL\n",
       "\\end{minted}"
      ],
      "text/markdown": [
       "```r\n",
       "function (..., sep = \" \", collapse = NULL, recycle0 = FALSE) \n",
       "NULL\n",
       "```"
      ],
      "text/plain": [
       "function (..., sep = \" \", collapse = NULL, recycle0 = FALSE) \n",
       "NULL"
      ]
     },
     "metadata": {},
     "output_type": "display_data"
    }
   ],
   "source": [
    "args(paste)"
   ]
  },
  {
   "cell_type": "markdown",
   "metadata": {},
   "source": [
    "因此，```sep``` 必須照順序，且不能用縮寫:"
   ]
  },
  {
   "cell_type": "code",
   "execution_count": 7,
   "metadata": {},
   "outputs": [
    {
     "data": {
      "text/html": [
       "'a b :'"
      ],
      "text/latex": [
       "'a b :'"
      ],
      "text/markdown": [
       "'a b :'"
      ],
      "text/plain": [
       "[1] \"a b :\""
      ]
     },
     "metadata": {},
     "output_type": "display_data"
    }
   ],
   "source": [
    "paste(\"a\", \"b\", se=\":\")"
   ]
  },
  {
   "cell_type": "markdown",
   "metadata": {},
   "source": [
    "可以看到，用縮寫的結果就是 R 直接無視你 argument 的名稱，並把```:```當作另一個要被 paste 在一起的 object。"
   ]
  },
  {
   "cell_type": "code",
   "execution_count": 8,
   "metadata": {},
   "outputs": [
    {
     "data": {
      "text/html": [
       "'a:b'"
      ],
      "text/latex": [
       "'a:b'"
      ],
      "text/markdown": [
       "'a:b'"
      ],
      "text/plain": [
       "[1] \"a:b\""
      ]
     },
     "metadata": {},
     "output_type": "display_data"
    }
   ],
   "source": [
    "paste(\"a\", \"b\", sep=\":\")"
   ]
  },
  {
   "cell_type": "markdown",
   "metadata": {},
   "source": [
    "這裡感覺需要查詢更多資訊。"
   ]
  },
  {
   "cell_type": "markdown",
   "metadata": {},
   "source": [
    "[筆記來源](https://d3c33hcgiwev3.cloudfront.net/_a06bfc4457974762032b75163ca1b7b0_scoping_binding.pdf?Expires=1602201600&Signature=kPOuLasIzcqiTCWn9ND8CTvIVz6zetmI6Whfg18V5DPMMHQWZ6yA9PkZ9gJjYZLuyO-EQPs~rlMkE0maMHtK8f6OvRZ-~ISgYt1pYI-EIb4THXWCi3nW5uAip4f8mcFLgRNRachAG9CXK18CZAC9K08euHIL1H2WWtbkjvf0LoI_&Key-Pair-Id=APKAJLTNE6QMUY6HBC5A)"
   ]
  },
  {
   "cell_type": "markdown",
   "metadata": {},
   "source": [
    "在 R 裡，一個 ```symbol```會搭配一個 ```value```。"
   ]
  },
  {
   "cell_type": "markdown",
   "metadata": {},
   "source": [
    "```R\n",
    "lm <- function(x){x * X}\n",
    "```\n",
    "我們創了一個 function，叫做 ```lm```。 \n",
    "那 R 要如何知道 ```lm``` 這個 ```symbol```要搭配哪一個 value?  \n",
    "因為其實 R 裡面的 ```stats``` package 就有一個 ```lm```。    \n",
    "1. 他會先去 ```global environment```(user's workspace)找看看有沒有對應的 symbol name。\n",
    "2. 找不到的話再去 ```search list``` 的 ```packages``` 裡的 ```namespace```([命名空間](https://zh.wikipedia.org/wiki/%E5%91%BD%E5%90%8D%E7%A9%BA%E9%97%B4)) 找。(用 ```search()```)"
   ]
  },
  {
   "cell_type": "code",
   "execution_count": 9,
   "metadata": {},
   "outputs": [
    {
     "data": {
      "text/html": [
       "<style>\n",
       ".list-inline {list-style: none; margin:0; padding: 0}\n",
       ".list-inline>li {display: inline-block}\n",
       ".list-inline>li:not(:last-child)::after {content: \"\\00b7\"; padding: 0 .5ex}\n",
       "</style>\n",
       "<ol class=list-inline><li>'.GlobalEnv'</li><li>'jupyter:irkernel'</li><li>'package:stats'</li><li>'package:graphics'</li><li>'package:grDevices'</li><li>'package:utils'</li><li>'package:datasets'</li><li>'package:methods'</li><li>'Autoloads'</li><li>'package:base'</li></ol>\n"
      ],
      "text/latex": [
       "\\begin{enumerate*}\n",
       "\\item '.GlobalEnv'\n",
       "\\item 'jupyter:irkernel'\n",
       "\\item 'package:stats'\n",
       "\\item 'package:graphics'\n",
       "\\item 'package:grDevices'\n",
       "\\item 'package:utils'\n",
       "\\item 'package:datasets'\n",
       "\\item 'package:methods'\n",
       "\\item 'Autoloads'\n",
       "\\item 'package:base'\n",
       "\\end{enumerate*}\n"
      ],
      "text/markdown": [
       "1. '.GlobalEnv'\n",
       "2. 'jupyter:irkernel'\n",
       "3. 'package:stats'\n",
       "4. 'package:graphics'\n",
       "5. 'package:grDevices'\n",
       "6. 'package:utils'\n",
       "7. 'package:datasets'\n",
       "8. 'package:methods'\n",
       "9. 'Autoloads'\n",
       "10. 'package:base'\n",
       "\n",
       "\n"
      ],
      "text/plain": [
       " [1] \".GlobalEnv\"        \"jupyter:irkernel\"  \"package:stats\"    \n",
       " [4] \"package:graphics\"  \"package:grDevices\" \"package:utils\"    \n",
       " [7] \"package:datasets\"  \"package:methods\"   \"Autoloads\"        \n",
       "[10] \"package:base\"     "
      ]
     },
     "metadata": {},
     "output_type": "display_data"
    }
   ],
   "source": [
    "search()"
   ]
  },
  {
   "cell_type": "markdown",
   "metadata": {},
   "source": [
    "### Binding values to symbol:\n",
    "1. User's workspace 的 global environment 會在 search list 的第一位。(base package 一定在最後)。\n",
    "2. Search list 上的 <font color='red'> packages </font> 的順序是有意義的。\n",
    "3. 如果使用者載入了 package with ```library```。那那個```library```的 namespace 就會被放到順位 2。(其他下移)\n",
    "4. Functions 跟 non-function 有分離的 ```namespace```。(也就是有可能有一個 object 叫 c，同時另一個 function 也叫 c)"
   ]
  },
  {
   "cell_type": "markdown",
   "metadata": {},
   "source": [
    "## R 的 <font color='red'> Scoping Rule </font>:"
   ]
  },
  {
   "cell_type": "markdown",
   "metadata": {},
   "source": [
    "Scopoing rule 功能: 決定一個 function 裡的 <font color='red'> free variable </font> 會被分配到哪一個值。    \n",
    "R 使用: *lexical scoping(static scoping)* (相對於 dynamic scoping)。   \n",
    "說到底，就是 R 怎麼用 search list 來將 symbol 跟 value 配對(bind a value to a symbol)。   \n",
    "Lexical scoping 對於統計計算很有用。"
   ]
  },
  {
   "cell_type": "markdown",
   "metadata": {},
   "source": [
    "舉例:  \n",
    "```R\n",
    "f <- function(x, y) {\n",
    " x^2 + y / z\n",
    "}\n",
    "```\n",
    "---\n",
    "```f``` function 裡有一個 ```z``` variable。  \n",
    "他既不是 formal argument 也不是 local variable。"
   ]
  },
  {
   "cell_type": "markdown",
   "metadata": {},
   "source": [
    "> Lexical scoping in R means that\n",
    "the values of free variables are searched for <font color='red'>in the environment</font> <font color='green'>in which the function was defined</font>."
   ]
  },
  {
   "cell_type": "markdown",
   "metadata": {},
   "source": [
    "那甚麼是 envrionment?\n",
    "---\n",
    "- A collection of (symbol, value) pairs.  \n",
    "- 每個 environment 都有一個 *parent environment*。(唯一一個沒有 parent 的 environment 是 <font color='green'> empty environment</font>)\n",
    "- 一個 envrionment 可能有很多個 *children*。\n",
    "- <font color='green'> 一個 function + 一個 environment </font> 稱為 <font color='red'>*closure*(或 *function closure*)</font>。\n"
   ]
  },
  {
   "cell_type": "code",
   "execution_count": null,
   "metadata": {},
   "outputs": [],
   "source": []
  }
 ],
 "metadata": {
  "kernelspec": {
   "display_name": "R",
   "language": "R",
   "name": "ir"
  },
  "language_info": {
   "codemirror_mode": "r",
   "file_extension": ".r",
   "mimetype": "text/x-r-source",
   "name": "R",
   "pygments_lexer": "r",
   "version": "4.0.2"
  }
 },
 "nbformat": 4,
 "nbformat_minor": 2
}
