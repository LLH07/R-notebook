{
 "cells": [
  {
   "cell_type": "markdown",
   "metadata": {},
   "source": [
    "## Function:"
   ]
  },
  {
   "cell_type": "markdown",
   "metadata": {},
   "source": [
    "- Function 在 R 裡是一個 <font color='red'> object </font>。\n",
    "- Function 在 R 理是 <font color='red'> first class objects </font>:\n",
    "    - Function 可以被當成 arguments，傳入另一個 function。\n",
    "    - 可以有 <font color='red'> nested function </font>。也就是 function 裡面還有 function。\n",
    "- Function 的 return value 是 function body 內的 <font color='red'> 最後一個 expression</font>。"
   ]
  },
  {
   "cell_type": "markdown",
   "metadata": {},
   "source": [
    "### Fuction arguments:"
   ]
  },
  {
   "cell_type": "markdown",
   "metadata": {},
   "source": [
    "- formal arguments: 在 define function 時設的 arguments。\n",
    "- 用 ```formals(function 名稱)```可以列出 function 有哪些 formal arguments。\n",
    "- 不是每個 argument 都會用到。\n",
    "- 在傳入 arguments 時，可以只傳入 argument 名稱的前幾個字(但要確保 R 找的到)。"
   ]
  },
  {
   "cell_type": "markdown",
   "metadata": {},
   "source": [
    "### Lazy Evaluation:"
   ]
  },
  {
   "cell_type": "markdown",
   "metadata": {},
   "source": [
    "R 只在需要 function 的 argument 時，才會去找那個 argument 是否存在。\n",
    "舉例:  \n",
    "下面我呼叫 f() 時，只傳入 45，所以 ```a = 45``` 而 b 沒有給定。  \n",
    "程式在執行 ```print(a)``` 時沒有問題，因為他找的到 argument ```a```。  \n",
    "但在 ```print(b)``` 就會發生錯誤。"
   ]
  },
  {
   "cell_type": "code",
   "execution_count": 1,
   "metadata": {
    "scrolled": true
   },
   "outputs": [
    {
     "name": "stdout",
     "output_type": "stream",
     "text": [
      "[1] 45\n"
     ]
    },
    {
     "ename": "ERROR",
     "evalue": "Error in print(b): 缺少引數 \"b\"，也沒有預設值\n",
     "output_type": "error",
     "traceback": [
      "Error in print(b): 缺少引數 \"b\"，也沒有預設值\nTraceback:\n",
      "1. f(45)",
      "2. print(b)   # at line 3 of file <text>"
     ]
    }
   ],
   "source": [
    "f <- function(a, b) {\n",
    " print(a)\n",
    " print(b)\n",
    "}\n",
    "f(45)"
   ]
  },
  {
   "cell_type": "markdown",
   "metadata": {},
   "source": [
    "## The \"...\" argument:"
   ]
  },
  {
   "cell_type": "markdown",
   "metadata": {},
   "source": [
    "在傳入 function 的 argument 時，如果想從其他 function 拿取 argument，但又不想重新寫一遍，可以用 ```...```。  \n",
    "一個應用的地方是 generic functions。"
   ]
  },
  {
   "cell_type": "code",
   "execution_count": 3,
   "metadata": {},
   "outputs": [],
   "source": [
    "myplot <- function(x, y, type = \"l\", ...) {\n",
    " plot(x, y, type = type, ...)\n",
    "}"
   ]
  },
  {
   "cell_type": "markdown",
   "metadata": {},
   "source": [
    "```...```在不知道 function 有多少 input 時也會出現，比如:"
   ]
  },
  {
   "cell_type": "code",
   "execution_count": 5,
   "metadata": {},
   "outputs": [
    {
     "data": {
      "text/html": [
       "<pre class=language-r><code>function (..., sep = \" \", collapse = NULL, recycle0 = FALSE) \n",
       "NULL</code></pre>"
      ],
      "text/latex": [
       "\\begin{minted}{r}\n",
       "function (..., sep = \" \", collapse = NULL, recycle0 = FALSE) \n",
       "NULL\n",
       "\\end{minted}"
      ],
      "text/markdown": [
       "```r\n",
       "function (..., sep = \" \", collapse = NULL, recycle0 = FALSE) \n",
       "NULL\n",
       "```"
      ],
      "text/plain": [
       "function (..., sep = \" \", collapse = NULL, recycle0 = FALSE) \n",
       "NULL"
      ]
     },
     "metadata": {},
     "output_type": "display_data"
    }
   ],
   "source": [
    "args(paste)"
   ]
  },
  {
   "cell_type": "markdown",
   "metadata": {},
   "source": [
    "```paste()```這個 function 將 object 合起來，但 ```paste()``` 一開始不會知道使用者會傳入多少 object，故要用```...```。"
   ]
  },
  {
   "cell_type": "markdown",
   "metadata": {},
   "source": [
    "要注意的是，使用```...```後，後面的 arguments 必須 <font color='red'> 照順序且不能用縮寫 </font>，舉例:"
   ]
  },
  {
   "cell_type": "code",
   "execution_count": 6,
   "metadata": {},
   "outputs": [
    {
     "data": {
      "text/html": [
       "<pre class=language-r><code>function (..., sep = \" \", collapse = NULL, recycle0 = FALSE) \n",
       "NULL</code></pre>"
      ],
      "text/latex": [
       "\\begin{minted}{r}\n",
       "function (..., sep = \" \", collapse = NULL, recycle0 = FALSE) \n",
       "NULL\n",
       "\\end{minted}"
      ],
      "text/markdown": [
       "```r\n",
       "function (..., sep = \" \", collapse = NULL, recycle0 = FALSE) \n",
       "NULL\n",
       "```"
      ],
      "text/plain": [
       "function (..., sep = \" \", collapse = NULL, recycle0 = FALSE) \n",
       "NULL"
      ]
     },
     "metadata": {},
     "output_type": "display_data"
    }
   ],
   "source": [
    "args(paste)"
   ]
  },
  {
   "cell_type": "markdown",
   "metadata": {},
   "source": [
    "因此，```sep``` 必須照順序，且不能用縮寫:"
   ]
  },
  {
   "cell_type": "code",
   "execution_count": 7,
   "metadata": {},
   "outputs": [
    {
     "data": {
      "text/html": [
       "'a b :'"
      ],
      "text/latex": [
       "'a b :'"
      ],
      "text/markdown": [
       "'a b :'"
      ],
      "text/plain": [
       "[1] \"a b :\""
      ]
     },
     "metadata": {},
     "output_type": "display_data"
    }
   ],
   "source": [
    "paste(\"a\", \"b\", se=\":\")"
   ]
  },
  {
   "cell_type": "markdown",
   "metadata": {},
   "source": [
    "可以看到，用縮寫的結果就是 R 直接無視你 argument 的名稱，並把```:```當作另一個要被 paste 在一起的 object。"
   ]
  },
  {
   "cell_type": "code",
   "execution_count": 8,
   "metadata": {},
   "outputs": [
    {
     "data": {
      "text/html": [
       "'a:b'"
      ],
      "text/latex": [
       "'a:b'"
      ],
      "text/markdown": [
       "'a:b'"
      ],
      "text/plain": [
       "[1] \"a:b\""
      ]
     },
     "metadata": {},
     "output_type": "display_data"
    }
   ],
   "source": [
    "paste(\"a\", \"b\", sep=\":\")"
   ]
  },
  {
   "cell_type": "code",
   "execution_count": null,
   "metadata": {},
   "outputs": [],
   "source": []
  }
 ],
 "metadata": {
  "kernelspec": {
   "display_name": "R",
   "language": "R",
   "name": "ir"
  },
  "language_info": {
   "codemirror_mode": "r",
   "file_extension": ".r",
   "mimetype": "text/x-r-source",
   "name": "R",
   "pygments_lexer": "r",
   "version": "4.0.2"
  }
 },
 "nbformat": 4,
 "nbformat_minor": 2
}
