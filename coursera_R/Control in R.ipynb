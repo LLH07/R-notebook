{
 "cells": [
  {
   "cell_type": "markdown",
   "metadata": {},
   "source": [
    "[筆記來源](https://www.coursera.org/learn/r-programming/lecture/8B52C/control-structures-introduction)"
   ]
  },
  {
   "cell_type": "markdown",
   "metadata": {},
   "source": [
    "幾個 basic 的 control structures:\n",
    "- ```if else```\n",
    "- ```for```\n",
    "- ```while```\n",
    "- ```repeat```:執行 <font color='red'> 無限迴圈 </font>。\n",
    "- ```break```\n",
    "- ```next```: skip an <font color='red'> iteration </font> of a loop。\n",
    "- ```return```: exit a function。"
   ]
  },
  {
   "cell_type": "markdown",
   "metadata": {},
   "source": [
    "R 也有類似 Python 的 comprehension:  \n",
    "```R\n",
    "if (x > 3){\n",
    "    y <- 10\n",
    "}else{\n",
    "    y <- 5\n",
    "}\n",
    "```\n",
    "跟 \n",
    "```R\n",
    "y <- if(x > 3){\n",
    "    10\n",
    "}else{\n",
    "    5\n",
    "}\n",
    "```\n",
    "是一樣的。\n",
    "\n"
   ]
  },
  {
   "cell_type": "markdown",
   "metadata": {},
   "source": [
    "## <font color='green'> ```for``` loop</font>:"
   ]
  },
  {
   "cell_type": "markdown",
   "metadata": {},
   "source": [
    "方法一: 直接用"
   ]
  },
  {
   "cell_type": "code",
   "execution_count": 5,
   "metadata": {},
   "outputs": [
    {
     "name": "stdout",
     "output_type": "stream",
     "text": [
      "[1] \"a\"\n",
      "[1] \"b\"\n",
      "[1] \"c\"\n",
      "[1] \"d\"\n"
     ]
    }
   ],
   "source": [
    "x <- c(\"a\", \"b\", \"c\", \"d\") # x is a character vector。\n",
    "\n",
    "for(i in 1:4){\n",
    "    print(x[i])\n",
    "}\n",
    "# same as: for(i in 1:4) print(x[i])"
   ]
  },
  {
   "cell_type": "markdown",
   "metadata": {},
   "source": [
    "方法二: 用```seq_along()``` [好處是我不用事先知道 x 的長度]"
   ]
  },
  {
   "cell_type": "code",
   "execution_count": 6,
   "metadata": {},
   "outputs": [
    {
     "name": "stdout",
     "output_type": "stream",
     "text": [
      "[1] \"a\"\n",
      "[1] \"b\"\n",
      "[1] \"c\"\n",
      "[1] \"d\"\n"
     ]
    }
   ],
   "source": [
    "for(i in seq_along(x)){\n",
    "    print(x[i])\n",
    "}"
   ]
  },
  {
   "cell_type": "markdown",
   "metadata": {},
   "source": [
    "方法三: 直接在 x 裡面迭代:"
   ]
  },
  {
   "cell_type": "code",
   "execution_count": 7,
   "metadata": {},
   "outputs": [
    {
     "name": "stdout",
     "output_type": "stream",
     "text": [
      "[1] \"a\"\n",
      "[1] \"b\"\n",
      "[1] \"c\"\n",
      "[1] \"d\"\n"
     ]
    }
   ],
   "source": [
    "for(letter in x){\n",
    "    print(letter)\n",
    "}"
   ]
  },
  {
   "cell_type": "markdown",
   "metadata": {},
   "source": [
    "任務: 印出一個 matrix 的所有 elements:\n",
    "(使用 ```seq_len()```, ```nrow()```, ```ncol()```)"
   ]
  },
  {
   "cell_type": "code",
   "execution_count": 11,
   "metadata": {},
   "outputs": [
    {
     "name": "stdout",
     "output_type": "stream",
     "text": [
      "[1] 1\n",
      "[1] 3\n",
      "[1] 5\n",
      "[1] 2\n",
      "[1] 4\n",
      "[1] 6\n"
     ]
    }
   ],
   "source": [
    "x <- matrix(1:6, 2, 3)\n",
    "\n",
    "for(i in seq_len(nrow(x))){\n",
    "    for(j in seq_len(ncol(x))){\n",
    "        print(x[i, j]) # 注意到取 matrix element 的方法。\n",
    "    }\n",
    "}"
   ]
  },
  {
   "cell_type": "markdown",
   "metadata": {},
   "source": [
    "## <font color='green'> ```while``` loop</font>:"
   ]
  },
  {
   "cell_type": "markdown",
   "metadata": {},
   "source": [
    "如果有多個 conditions(```z >=3 && z <= 10```)，R 會從 <font color='red'> 左到右 </font> 判斷。"
   ]
  },
  {
   "cell_type": "code",
   "execution_count": 12,
   "metadata": {},
   "outputs": [
    {
     "name": "stdout",
     "output_type": "stream",
     "text": [
      "[1] 5\n",
      "[1] 6\n",
      "[1] 7\n",
      "[1] 6\n",
      "[1] 7\n",
      "[1] 8\n",
      "[1] 9\n",
      "[1] 10\n",
      "[1] 9\n",
      "[1] 8\n",
      "[1] 9\n",
      "[1] 8\n",
      "[1] 7\n",
      "[1] 8\n",
      "[1] 9\n",
      "[1] 10\n"
     ]
    }
   ],
   "source": [
    "z <- 5\n",
    "while(z >= 3 && z <= 10) { \n",
    " print(z)\n",
    " coin <- rbinom(1, 1, 0.5)\n",
    " if(coin == 1) { ## random walk\n",
    " z <- z + 1\n",
    " } else {\n",
    " z <- z - 1\n",
    " }\n",
    "}"
   ]
  },
  {
   "cell_type": "markdown",
   "metadata": {},
   "source": [
    "## <font color='green'> ```repeat``` loop</font>:"
   ]
  },
  {
   "cell_type": "markdown",
   "metadata": {},
   "source": [
    "```R\n",
    "x0 <- 1\n",
    "tol <- 1e-8\n",
    "repeat {\n",
    " x1 <- computeEstimate()\n",
    " if(abs(x1 - x0) < tol) {\n",
    " break\n",
    " } else {\n",
    " x0 <- x1\n",
    " }\n",
    "}\n",
    "```\n",
    "\n",
    "這個 repeat loop 會一直進行，唯一可以讓他停下來的方法是```break```。  \n",
    "因此老師並不太推薦 ```repeat```。而是要用 ```for``` 迴圈來設定 loop 的次數。"
   ]
  },
  {
   "cell_type": "markdown",
   "metadata": {},
   "source": [
    "## <font color='green'> ```next``` 與 ```return``` </font>:"
   ]
  },
  {
   "cell_type": "markdown",
   "metadata": {},
   "source": [
    "```R\n",
    "for(i in 1:100) {\n",
    " if(i <= 20) {\n",
    " next\n",
    " }\n",
    " ## Do something here\n",
    "}\n",
    "```\n",
    "```next```的作用是<font color='red'> 跳過 </font> loop 的 interation。  \n",
    "因此這個 loop 會無視前 20 個 iterations。  \n",
    "```return```則會<font color='red'> 跳出 </font> function，並回傳一個 value。"
   ]
  },
  {
   "cell_type": "markdown",
   "metadata": {},
   "source": [
    "[補充]:  \n",
    "在寫程式時，我們應該要用本篇提到的 control structure。  \n",
    "但如果是在 <font color='red'> command line (interactive work) </font>，則用 ```*apply```比較好。"
   ]
  },
  {
   "cell_type": "code",
   "execution_count": null,
   "metadata": {},
   "outputs": [],
   "source": []
  }
 ],
 "metadata": {
  "kernelspec": {
   "display_name": "R",
   "language": "R",
   "name": "ir"
  },
  "language_info": {
   "codemirror_mode": "r",
   "file_extension": ".r",
   "mimetype": "text/x-r-source",
   "name": "R",
   "pygments_lexer": "r",
   "version": "4.0.2"
  }
 },
 "nbformat": 4,
 "nbformat_minor": 2
}
