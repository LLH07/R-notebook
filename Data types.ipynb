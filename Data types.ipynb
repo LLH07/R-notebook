{
 "cells": [
  {
   "cell_type": "markdown",
   "metadata": {},
   "source": [
    "R 裡面的 objects 儲存在真正的記憶體裡。"
   ]
  },
  {
   "cell_type": "markdown",
   "metadata": {},
   "source": [
    "getwd(): 取得目前的目錄的位置  \n",
    "ls():   \n",
    "dir(): 列出目前目錄的檔案"
   ]
  },
  {
   "cell_type": "markdown",
   "metadata": {},
   "source": [
    "用 <font color='blue'> source(檔案名稱) </font> 將你編輯的 r code 轉換成 R 檔案。 "
   ]
  },
  {
   "cell_type": "code",
   "execution_count": 1,
   "metadata": {},
   "outputs": [],
   "source": [
    "myfunction <- function(){\n",
    "\tx <- rnorm(100)\n",
    "\tmean(x)\n",
    "}"
   ]
  },
  {
   "cell_type": "code",
   "execution_count": 3,
   "metadata": {
    "scrolled": false
   },
   "outputs": [
    {
     "data": {
      "text/html": [
       "-0.0482387174611586"
      ],
      "text/latex": [
       "-0.0482387174611586"
      ],
      "text/markdown": [
       "-0.0482387174611586"
      ],
      "text/plain": [
       "[1] -0.04823872"
      ]
     },
     "metadata": {},
     "output_type": "display_data"
    }
   ],
   "source": [
    "myfunction()"
   ]
  },
  {
   "cell_type": "markdown",
   "metadata": {},
   "source": [
    "<font color='blue'>\":\" operator </font>可以用來做 integer sequences。"
   ]
  },
  {
   "cell_type": "code",
   "execution_count": 4,
   "metadata": {},
   "outputs": [],
   "source": [
    "x <- 1:20"
   ]
  },
  {
   "cell_type": "code",
   "execution_count": 5,
   "metadata": {},
   "outputs": [
    {
     "data": {
      "text/html": [
       "<style>\n",
       ".list-inline {list-style: none; margin:0; padding: 0}\n",
       ".list-inline>li {display: inline-block}\n",
       ".list-inline>li:not(:last-child)::after {content: \"\\00b7\"; padding: 0 .5ex}\n",
       "</style>\n",
       "<ol class=list-inline><li>1</li><li>2</li><li>3</li><li>4</li><li>5</li><li>6</li><li>7</li><li>8</li><li>9</li><li>10</li><li>11</li><li>12</li><li>13</li><li>14</li><li>15</li><li>16</li><li>17</li><li>18</li><li>19</li><li>20</li></ol>\n"
      ],
      "text/latex": [
       "\\begin{enumerate*}\n",
       "\\item 1\n",
       "\\item 2\n",
       "\\item 3\n",
       "\\item 4\n",
       "\\item 5\n",
       "\\item 6\n",
       "\\item 7\n",
       "\\item 8\n",
       "\\item 9\n",
       "\\item 10\n",
       "\\item 11\n",
       "\\item 12\n",
       "\\item 13\n",
       "\\item 14\n",
       "\\item 15\n",
       "\\item 16\n",
       "\\item 17\n",
       "\\item 18\n",
       "\\item 19\n",
       "\\item 20\n",
       "\\end{enumerate*}\n"
      ],
      "text/markdown": [
       "1. 1\n",
       "2. 2\n",
       "3. 3\n",
       "4. 4\n",
       "5. 5\n",
       "6. 6\n",
       "7. 7\n",
       "8. 8\n",
       "9. 9\n",
       "10. 10\n",
       "11. 11\n",
       "12. 12\n",
       "13. 13\n",
       "14. 14\n",
       "15. 15\n",
       "16. 16\n",
       "17. 17\n",
       "18. 18\n",
       "19. 19\n",
       "20. 20\n",
       "\n",
       "\n"
      ],
      "text/plain": [
       " [1]  1  2  3  4  5  6  7  8  9 10 11 12 13 14 15 16 17 18 19 20"
      ]
     },
     "metadata": {},
     "output_type": "display_data"
    }
   ],
   "source": [
    "x"
   ]
  },
  {
   "cell_type": "markdown",
   "metadata": {},
   "source": [
    "R 裡的五個基本 classes: \n",
    "- character\n",
    "- number\n",
    "- integer\n",
    "- complex \n",
    "- logical(True, False)"
   ]
  },
  {
   "cell_type": "markdown",
   "metadata": {},
   "source": [
    "vector 是最簡單的一種 object:\n",
    "- vector 裡的 objects 只能是同一個 class。\n",
    "- 例外: List 裡面的 objects 可以是不同 classes。\n",
    "- 用 <font color='blue'> vector(<font color='red'> vector 存放的資料型態, vector 的長度</font>) </font> 創建一個空的 vector。"
   ]
  },
  {
   "cell_type": "markdown",
   "metadata": {},
   "source": [
    "### Number:\n",
    "- Integer\n",
    "- Infinity\n",
    "- NaN"
   ]
  },
  {
   "cell_type": "markdown",
   "metadata": {},
   "source": [
    "Number 在 R 裡是一種 numeric objects(double precision real numbers)。  \n",
    "因此，數字 10 會被認為是 number，而如果你要 integer 的 10，可以用 <font color='red'> L suffix(後綴) </font>:"
   ]
  },
  {
   "cell_type": "code",
   "execution_count": 9,
   "metadata": {
    "scrolled": true
   },
   "outputs": [
    {
     "data": {
      "text/html": [
       "'double'"
      ],
      "text/latex": [
       "'double'"
      ],
      "text/markdown": [
       "'double'"
      ],
      "text/plain": [
       "[1] \"double\""
      ]
     },
     "metadata": {},
     "output_type": "display_data"
    },
    {
     "data": {
      "text/html": [
       "'integer'"
      ],
      "text/latex": [
       "'integer'"
      ],
      "text/markdown": [
       "'integer'"
      ],
      "text/plain": [
       "[1] \"integer\""
      ]
     },
     "metadata": {},
     "output_type": "display_data"
    }
   ],
   "source": [
    "ex = 1\n",
    "ex2 = 1L\n",
    "\n",
    "typeof(ex)\n",
    "typeof(ex2)"
   ]
  },
  {
   "cell_type": "markdown",
   "metadata": {},
   "source": [
    "<font color='blue'> Inf </font> 是另一種 number，表示 infinity。"
   ]
  },
  {
   "cell_type": "code",
   "execution_count": 10,
   "metadata": {},
   "outputs": [
    {
     "name": "stdout",
     "output_type": "stream",
     "text": [
      "[1] Inf\n"
     ]
    }
   ],
   "source": [
    "print(1/0)"
   ]
  },
  {
   "cell_type": "code",
   "execution_count": 11,
   "metadata": {},
   "outputs": [
    {
     "name": "stdout",
     "output_type": "stream",
     "text": [
      "[1] 0\n"
     ]
    }
   ],
   "source": [
    "print(1/Inf)"
   ]
  },
  {
   "cell_type": "markdown",
   "metadata": {},
   "source": [
    "最後一種是 <font color='red'> NaN </font>。\n",
    "可能運用在:  \n",
    "- 0/0。  \n",
    "- 資料有缺的情況。 "
   ]
  },
  {
   "cell_type": "code",
   "execution_count": 12,
   "metadata": {
    "scrolled": true
   },
   "outputs": [
    {
     "data": {
      "text/html": [
       "NaN"
      ],
      "text/latex": [
       "NaN"
      ],
      "text/markdown": [
       "NaN"
      ],
      "text/plain": [
       "[1] NaN"
      ]
     },
     "metadata": {},
     "output_type": "display_data"
    }
   ],
   "source": [
    "0/0"
   ]
  },
  {
   "cell_type": "markdown",
   "metadata": {},
   "source": [
    "### [補充] Attributes:  "
   ]
  },
  {
   "cell_type": "markdown",
   "metadata": {},
   "source": [
    "R 的 objects 有許多 attributes，比如:  \n",
    "- names, dimnames\n",
    "- dimensions(比如 matrices，arrays)\n",
    "- class\n",
    "- length \n",
    "- other user-defined attributes/metadata\n",
    "可以用 <font color='blue'> attributes(<font color='red'>某一個 class</font>) 還查看:"
   ]
  },
  {
   "cell_type": "code",
   "execution_count": 15,
   "metadata": {},
   "outputs": [
    {
     "data": {
      "text/plain": [
       "$generic\n",
       "[1] \"Complex\"\n",
       "attr(,\"package\")\n",
       "[1] \"base\"\n",
       "\n",
       "$package\n",
       "[1] \"base\"\n",
       "\n",
       "$group\n",
       "list()\n",
       "\n",
       "$valueClass\n",
       "character(0)\n",
       "\n",
       "$signature\n",
       "[1] \"z\"\n",
       "\n",
       "$default\n",
       "`\\001NULL\\001`\n",
       "\n",
       "$skeleton\n",
       "(function (z) \n",
       "stop(\"invalid call in method dispatch to 'Complex' (no default method)\", \n",
       "    domain = NA))(z)\n",
       "\n",
       "$groupMembers\n",
       "$groupMembers[[1]]\n",
       "[1] \"Arg\"\n",
       "\n",
       "$groupMembers[[2]]\n",
       "[1] \"Conj\"\n",
       "\n",
       "$groupMembers[[3]]\n",
       "[1] \"Im\"\n",
       "\n",
       "$groupMembers[[4]]\n",
       "[1] \"Mod\"\n",
       "\n",
       "$groupMembers[[5]]\n",
       "[1] \"Re\"\n",
       "\n",
       "\n",
       "$class\n",
       "[1] \"groupGenericFunction\"\n",
       "attr(,\"package\")\n",
       "[1] \"methods\"\n"
      ]
     },
     "metadata": {},
     "output_type": "display_data"
    }
   ],
   "source": [
    "attributes(Complex)"
   ]
  },
  {
   "cell_type": "code",
   "execution_count": null,
   "metadata": {},
   "outputs": [],
   "source": []
  }
 ],
 "metadata": {
  "kernelspec": {
   "display_name": "R",
   "language": "R",
   "name": "ir"
  },
  "language_info": {
   "codemirror_mode": "r",
   "file_extension": ".r",
   "mimetype": "text/x-r-source",
   "name": "R",
   "pygments_lexer": "r",
   "version": "4.0.2"
  }
 },
 "nbformat": 4,
 "nbformat_minor": 2
}
