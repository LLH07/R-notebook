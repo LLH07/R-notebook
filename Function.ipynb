{
 "cells": [
  {
   "cell_type": "markdown",
   "metadata": {},
   "source": [
    "假設你現在有一個 dataframe，找出此 dataframe 各個 column 的平均:\n",
    "1. 我要先知道這個 dataframe 有幾個 columns。 (用 ```ncol```)  \n",
    "2. 創建一個 ```numeric vector```(means)，其長度是 nc。  \n",
    "3. 使用 ```for```迴圈將 dataframe 的所有 column 取平均，若有 ```NA```，則將之 remove。(使用 ```na.rm```)  \n",
    "4. 別忘了最後要 ```return```。  "
   ]
  },
  {
   "cell_type": "code",
   "execution_count": 8,
   "metadata": {},
   "outputs": [],
   "source": [
    "columnmean <- function(x, removeNA = TRUE){\n",
    "    nc <- ncol(x)\n",
    "    means <- numeric(nc)\n",
    "    for(i in 1:nc){\n",
    "        means[i] <- mean(x[, i], na.rm = removeNA)\n",
    "    }\n",
    "    means\n",
    "}"
   ]
  },
  {
   "cell_type": "code",
   "execution_count": 9,
   "metadata": {},
   "outputs": [
    {
     "data": {
      "text/html": [
       "<table>\n",
       "<caption>A data.frame: 14 × 5</caption>\n",
       "<thead>\n",
       "\t<tr><th scope=col>單位名稱</th><th scope=col>買進金額</th><th scope=col>賣出金額</th><th scope=col>買賣差額</th><th scope=col>X</th></tr>\n",
       "\t<tr><th scope=col>&lt;chr&gt;</th><th scope=col>&lt;chr&gt;</th><th scope=col>&lt;chr&gt;</th><th scope=col>&lt;chr&gt;</th><th scope=col>&lt;lgl&gt;</th></tr>\n",
       "</thead>\n",
       "<tbody>\n",
       "\t<tr><td>自營商(自行買賣)                                                                                                                                  </td><td>1,713,065,110 </td><td>1,161,030,237 </td><td>552,034,873  </td><td>NA</td></tr>\n",
       "\t<tr><td>自營商(避險)                                                                                                                                      </td><td>3,259,281,956 </td><td>3,037,109,097 </td><td>222,172,859  </td><td>NA</td></tr>\n",
       "\t<tr><td>投信                                                                                                                                              </td><td>1,233,383,300 </td><td>970,318,710   </td><td>263,064,590  </td><td>NA</td></tr>\n",
       "\t<tr><td>外資及陸資(不含外資自營商)                                                                                                                        </td><td>49,258,625,840</td><td>44,354,158,845</td><td>4,904,466,995</td><td>NA</td></tr>\n",
       "\t<tr><td>外資自營商                                                                                                                                        </td><td>15,099,740    </td><td>6,516,960     </td><td>8,582,780    </td><td>NA</td></tr>\n",
       "\t<tr><td>合計                                                                                                                                              </td><td>55,464,356,206</td><td>49,522,616,889</td><td>5,941,739,317</td><td>NA</td></tr>\n",
       "\t<tr><td>說明:                                                                                                                                             </td><td>              </td><td>              </td><td>             </td><td>NA</td></tr>\n",
       "\t<tr><td>自營商表示證券自營商專戶。                                                                                                                        </td><td>              </td><td>              </td><td>             </td><td>NA</td></tr>\n",
       "\t<tr><td>投信表示本國投資信託基金。                                                                                                                        </td><td>              </td><td>              </td><td>             </td><td>NA</td></tr>\n",
       "\t<tr><td>外資及陸資表示依「華僑及外國人投資證券管理辦法」及「大陸地區投資人來臺從事證券投資及期貨交易管理辦法」辦理登記等投資人。                          </td><td>              </td><td>              </td><td>             </td><td>NA</td></tr>\n",
       "\t<tr><td>因外資自營商買賣金額已計入自營商買賣金額，故不納入三大法人買賣金額之合計數計算。                                                                  </td><td>              </td><td>              </td><td>             </td><td>NA</td></tr>\n",
       "\t<tr><td>本統計資訊含一般、零股、盤後定價、鉅額，不含拍賣、標購。                                                                                          </td><td>              </td><td>              </td><td>             </td><td>NA</td></tr>\n",
       "\t<tr><td>本資訊以當日原始成交情形統計，不以證券商申報錯帳、更正帳號等調整後資料統計。                                                                      </td><td>              </td><td>              </td><td>             </td><td>NA</td></tr>\n",
       "\t<tr><td>外幣成交值係以本公司當日下午3時30分公告匯率換算後加入成交金額。\n",
       "公告匯率請參考本公司首頁&gt;產品與服務&gt;交易系統&gt;雙幣ETF專區&gt;代號對應及每日公告匯率。</td><td><span style=white-space:pre-wrap>              </span></td><td><span style=white-space:pre-wrap>              </span></td><td><span style=white-space:pre-wrap>             </span></td><td>NA</td></tr>\n",
       "</tbody>\n",
       "</table>\n"
      ],
      "text/latex": [
       "A data.frame: 14 × 5\n",
       "\\begin{tabular}{lllll}\n",
       " 單位名稱 & 買進金額 & 賣出金額 & 買賣差額 & X\\\\\n",
       " <chr> & <chr> & <chr> & <chr> & <lgl>\\\\\n",
       "\\hline\n",
       "\t 自營商(自行買賣)                                                                                                                                   & 1,713,065,110  & 1,161,030,237  & 552,034,873   & NA\\\\\n",
       "\t 自營商(避險)                                                                                                                                       & 3,259,281,956  & 3,037,109,097  & 222,172,859   & NA\\\\\n",
       "\t 投信                                                                                                                                               & 1,233,383,300  & 970,318,710    & 263,064,590   & NA\\\\\n",
       "\t 外資及陸資(不含外資自營商)                                                                                                                         & 49,258,625,840 & 44,354,158,845 & 4,904,466,995 & NA\\\\\n",
       "\t 外資自營商                                                                                                                                         & 15,099,740     & 6,516,960      & 8,582,780     & NA\\\\\n",
       "\t 合計                                                                                                                                               & 55,464,356,206 & 49,522,616,889 & 5,941,739,317 & NA\\\\\n",
       "\t 說明:                                                                                                                                              &                &                &               & NA\\\\\n",
       "\t 自營商表示證券自營商專戶。                                                                                                                         &                &                &               & NA\\\\\n",
       "\t 投信表示本國投資信託基金。                                                                                                                         &                &                &               & NA\\\\\n",
       "\t 外資及陸資表示依「華僑及外國人投資證券管理辦法」及「大陸地區投資人來臺從事證券投資及期貨交易管理辦法」辦理登記等投資人。                           &                &                &               & NA\\\\\n",
       "\t 因外資自營商買賣金額已計入自營商買賣金額，故不納入三大法人買賣金額之合計數計算。                                                                   &                &                &               & NA\\\\\n",
       "\t 本統計資訊含一般、零股、盤後定價、鉅額，不含拍賣、標購。                                                                                           &                &                &               & NA\\\\\n",
       "\t 本資訊以當日原始成交情形統計，不以證券商申報錯帳、更正帳號等調整後資料統計。                                                                       &                &                &               & NA\\\\\n",
       "\t 外幣成交值係以本公司當日下午3時30分公告匯率換算後加入成交金額。\n",
       "公告匯率請參考本公司首頁>產品與服務>交易系統>雙幣ETF專區>代號對應及每日公告匯率。 &                &                &               & NA\\\\\n",
       "\\end{tabular}\n"
      ],
      "text/markdown": [
       "\n",
       "A data.frame: 14 × 5\n",
       "\n",
       "| 單位名稱 &lt;chr&gt; | 買進金額 &lt;chr&gt; | 賣出金額 &lt;chr&gt; | 買賣差額 &lt;chr&gt; | X &lt;lgl&gt; |\n",
       "|---|---|---|---|---|\n",
       "| 自營商(自行買賣)                                                                                                                                   | 1,713,065,110  | 1,161,030,237  | 552,034,873   | NA |\n",
       "| 自營商(避險)                                                                                                                                       | 3,259,281,956  | 3,037,109,097  | 222,172,859   | NA |\n",
       "| 投信                                                                                                                                               | 1,233,383,300  | 970,318,710    | 263,064,590   | NA |\n",
       "| 外資及陸資(不含外資自營商)                                                                                                                         | 49,258,625,840 | 44,354,158,845 | 4,904,466,995 | NA |\n",
       "| 外資自營商                                                                                                                                         | 15,099,740     | 6,516,960      | 8,582,780     | NA |\n",
       "| 合計                                                                                                                                               | 55,464,356,206 | 49,522,616,889 | 5,941,739,317 | NA |\n",
       "| 說明:                                                                                                                                              | <!----> | <!----> | <!----> | NA |\n",
       "| 自營商表示證券自營商專戶。                                                                                                                         | <!----> | <!----> | <!----> | NA |\n",
       "| 投信表示本國投資信託基金。                                                                                                                         | <!----> | <!----> | <!----> | NA |\n",
       "| 外資及陸資表示依「華僑及外國人投資證券管理辦法」及「大陸地區投資人來臺從事證券投資及期貨交易管理辦法」辦理登記等投資人。                           | <!----> | <!----> | <!----> | NA |\n",
       "| 因外資自營商買賣金額已計入自營商買賣金額，故不納入三大法人買賣金額之合計數計算。                                                                   | <!----> | <!----> | <!----> | NA |\n",
       "| 本統計資訊含一般、零股、盤後定價、鉅額，不含拍賣、標購。                                                                                           | <!----> | <!----> | <!----> | NA |\n",
       "| 本資訊以當日原始成交情形統計，不以證券商申報錯帳、更正帳號等調整後資料統計。                                                                       | <!----> | <!----> | <!----> | NA |\n",
       "| 外幣成交值係以本公司當日下午3時30分公告匯率換算後加入成交金額。\n",
       "公告匯率請參考本公司首頁&gt;產品與服務&gt;交易系統&gt;雙幣ETF專區&gt;代號對應及每日公告匯率。 | <!----> | <!----> | <!----> | NA |\n",
       "\n"
      ],
      "text/plain": [
       "   單位名稱                                                                                                                                          \n",
       "1  自營商(自行買賣)                                                                                                                                  \n",
       "2  自營商(避險)                                                                                                                                      \n",
       "3  投信                                                                                                                                              \n",
       "4  外資及陸資(不含外資自營商)                                                                                                                        \n",
       "5  外資自營商                                                                                                                                        \n",
       "6  合計                                                                                                                                              \n",
       "7  說明:                                                                                                                                             \n",
       "8  自營商表示證券自營商專戶。                                                                                                                        \n",
       "9  投信表示本國投資信託基金。                                                                                                                        \n",
       "10 外資及陸資表示依「華僑及外國人投資證券管理辦法」及「大陸地區投資人來臺從事證券投資及期貨交易管理辦法」辦理登記等投資人。                          \n",
       "11 因外資自營商買賣金額已計入自營商買賣金額，故不納入三大法人買賣金額之合計數計算。                                                                  \n",
       "12 本統計資訊含一般、零股、盤後定價、鉅額，不含拍賣、標購。                                                                                          \n",
       "13 本資訊以當日原始成交情形統計，不以證券商申報錯帳、更正帳號等調整後資料統計。                                                                      \n",
       "14 外幣成交值係以本公司當日下午3時30分公告匯率換算後加入成交金額。\\n公告匯率請參考本公司首頁>產品與服務>交易系統>雙幣ETF專區>代號對應及每日公告匯率。\n",
       "   買進金額       賣出金額       買賣差額      X \n",
       "1  1,713,065,110  1,161,030,237  552,034,873   NA\n",
       "2  3,259,281,956  3,037,109,097  222,172,859   NA\n",
       "3  1,233,383,300  970,318,710    263,064,590   NA\n",
       "4  49,258,625,840 44,354,158,845 4,904,466,995 NA\n",
       "5  15,099,740     6,516,960      8,582,780     NA\n",
       "6  55,464,356,206 49,522,616,889 5,941,739,317 NA\n",
       "7                                              NA\n",
       "8                                              NA\n",
       "9                                              NA\n",
       "10                                             NA\n",
       "11                                             NA\n",
       "12                                             NA\n",
       "13                                             NA\n",
       "14                                             NA"
      ]
     },
     "metadata": {},
     "output_type": "display_data"
    }
   ],
   "source": [
    "x <- read.csv('BFI82U_day_20200930.csv', header=TRUE, skip=1)\n",
    "x"
   ]
  },
  {
   "cell_type": "code",
   "execution_count": 7,
   "metadata": {},
   "outputs": [
    {
     "name": "stderr",
     "output_type": "stream",
     "text": [
      "Warning message in mean.default(x[, i], na.rm = removeNA):\n",
      "\"argument is not numeric or logical: returning NA\"\n",
      "Warning message in mean.default(x[, i], na.rm = removeNA):\n",
      "\"argument is not numeric or logical: returning NA\"\n",
      "Warning message in mean.default(x[, i], na.rm = removeNA):\n",
      "\"argument is not numeric or logical: returning NA\"\n",
      "Warning message in mean.default(x[, i], na.rm = removeNA):\n",
      "\"argument is not numeric or logical: returning NA\"\n"
     ]
    },
    {
     "data": {
      "text/html": [
       "'double'"
      ],
      "text/latex": [
       "'double'"
      ],
      "text/markdown": [
       "'double'"
      ],
      "text/plain": [
       "[1] \"double\""
      ]
     },
     "metadata": {},
     "output_type": "display_data"
    }
   ],
   "source": [
    "columnmean(x)"
   ]
  },
  {
   "cell_type": "code",
   "execution_count": null,
   "metadata": {},
   "outputs": [],
   "source": []
  }
 ],
 "metadata": {
  "kernelspec": {
   "display_name": "R",
   "language": "R",
   "name": "ir"
  },
  "language_info": {
   "codemirror_mode": "r",
   "file_extension": ".r",
   "mimetype": "text/x-r-source",
   "name": "R",
   "pygments_lexer": "r",
   "version": "4.0.2"
  }
 },
 "nbformat": 4,
 "nbformat_minor": 2
}
