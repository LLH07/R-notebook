{
 "cells": [
  {
   "cell_type": "markdown",
   "metadata": {},
   "source": [
    "[筆記來源](https://d3c33hcgiwev3.cloudfront.net/_8a2f64babfc4628ca3448b10aeac7981_large_tables.pdf?Expires=1601337600&Signature=D6jBdHw4TWh6D1MRKueygMye~EUiQ3JCd2Sr3vEGZVgzn6ALr-tWC5yCsScKRj-Dw0phW4NYVPsTVWFt27JcqoS67zgGEZJjkU3eOI7ru2pSdFS9nJT1xBxgCZWUNUPiY9SAoCoD420RcOlgvIx6HquEGOjk0MbLYbBT217vg-E_&Key-Pair-Id=APKAJLTNE6QMUY6HBC5A)"
   ]
  },
  {
   "cell_type": "markdown",
   "metadata": {},
   "source": [
    "R 可以<font color='red'>讀取</font>這些資料:  \n",
    "- <font color='blue'> read.table, read.csv </font> \n",
    "    - 目標檔案: tablular data (有 rows 與 columns 的)。  \n",
    "    - 回傳: R 的 data frame 物件。  \n",
    "- <font color='blue'> read.Lines </font> \n",
    "    - 目標檔案: 文字檔。  \n",
    "    - 回傳: R 的 character vector 物件。  \n",
    "- <font color='blue'> source </font> \n",
    "    - 目標檔案: R 檔案。  \n",
    "    - inverse of dump。  \n",
    "- <font color='blue'> dget </font> \n",
    "    - 目標檔案: R 檔案。  \n",
    "    - inverse of dput。  \n",
    "- <font color='blue'> load </font> \n",
    "    - for reading in saved workplaces。  \n",
    "    - 專門讀取 <font color='red'> binary </font> 資料。  \n",
    "- <font color='blue'> unserialized </font> \n",
    "    - for reading single R objects。  \n",
    "    - 專門讀取 <font color='red'> binary </font> 資料。  "
   ]
  },
  {
   "cell_type": "markdown",
   "metadata": {},
   "source": [
    "當然，R 也可以<font color='red'>寫入</font>這些資料:  \n",
    "- write.table  \n",
    "- writeLines  \n",
    "- dump  \n",
    "- dput  \n",
    "- save  \n",
    "- serialize  "
   ]
  },
  {
   "cell_type": "markdown",
   "metadata": {},
   "source": [
    "## <font color='green'> read.table </font>:\n",
    "---  \n",
    "最 popular 用來讀取資料的 function。"
   ]
  },
  {
   "cell_type": "markdown",
   "metadata": {},
   "source": [
    "### key arguments:\n",
    "- <font color='blue'> file </font>: file 的名稱(或路徑)。  \n",
    "- <font color='blue'> header </font>: 邏輯子。告訴 R 這資料是否有 header(最上面的 row，也就是各個 column 代表的意思的那個 row)。  \n",
    "- <font color='blue'> sep </font>: 告訴 R column 跟 column 間用甚麼區別。  \n",
    "- <font color='blue'> colClasses </font>: 是一個 character vector。裡面放各個 column 的 class。  \n",
    "- <font color='blue'> nrows </font>: Rows 的數量。  \n",
    "- <font color='blue'> comment.char </font>: 告訴 R，哪個符號之後的句子是 comment，可以不用理會。\n",
    "- <font color='blue'> skip </font>: 告訴 R 要忽略最前面的多少行。 (可能資料最前面有個介紹，可以忽略)  \n",
    "- <font color='blue'> stringAsFactors </font>: 邏輯子。是否要把 <font color='red'> character variables </font> 視為 factors?"
   ]
  },
  {
   "cell_type": "markdown",
   "metadata": {},
   "source": [
    "#### 讀入少量 data:\n",
    "但在讀入少量資料時，可以只給 file 的名字，其他 R 都會預設好。  \n",
    "R 也會自己分配適當的記憶體空間給這個資料。  \n",
    "而 <font color='blue'> read.csv </font> 跟 read.table 基本上一樣，不同的點是:  \n",
    "<font color='red'> read.csv 預設的 sep 是 \",\" [而 read.table 預設是\"空白\"] </font>"
   ]
  },
  {
   "cell_type": "markdown",
   "metadata": {},
   "source": [
    "#### <font color='red'> 讀入大量 data </font>:\n",
    "##### 此時應該在 read.table 前，先將參數設定好，老師建議:  \n",
    "1. 把 [R 官方的 help page](https://www.rdocumentation.org/packages/utils/versions/3.6.2/topics/read.table) 記起來。 \n",
    "2. 大約計算目標文件<font color='red'> 可能占用多少 RAM </font>。\n",
    "3. 如果你的文件裡沒有註記，那就設 <font color='blue'> comment.char = \"\"。"
   ]
  },
  {
   "cell_type": "markdown",
   "metadata": {},
   "source": [
    "##### colClasses argument 非常重要，他可以改善讀取資料的速度(幾乎是兩倍)。  \n",
    "但前提是你必須<font color='red'>要知道所有 columns 的 classes </font>。  \n",
    "比如所有 classes 都是 numeric，則要這樣寫: <font color='blue'> colClasses = 'numeric' </font>。  \n",
    "我們可以用如下方法找出所有 classes:  "
   ]
  },
  {
   "cell_type": "markdown",
   "metadata": {},
   "source": [
    "```R\n",
    "initial <- read.table(\"datatable.txt\", nrows = 100)\n",
    "classes <- sapply(initial, class)\n",
    "tabAll <- read.table(\"datatable.txt\",\n",
    " colClasses = classes)\n",
    "```"
   ]
  },
  {
   "cell_type": "markdown",
   "metadata": {},
   "source": [
    "其中，第二行的 sapply function [在這裡有詳細的解釋](https://www.guru99.com/r-apply-sapply-tapply.html)。  \n",
    "而不要忘了 <font color='blue'> class function </font> 會告訴我們這個資料的 class。  "
   ]
  },
  {
   "cell_type": "markdown",
   "metadata": {},
   "source": [
    "##### <font color='red'> nrow </font> 也很重要。雖然他不會讓讀取速度變快，但 <font color='red'>可以節省記憶體空間 </font>。  \n",
    "可以用 <font color='blue'> wc </font> 計算 nrow。"
   ]
  },
  {
   "cell_type": "code",
   "execution_count": null,
   "metadata": {},
   "outputs": [],
   "source": []
  }
 ],
 "metadata": {
  "kernelspec": {
   "display_name": "R",
   "language": "R",
   "name": "ir"
  },
  "language_info": {
   "codemirror_mode": "r",
   "file_extension": ".r",
   "mimetype": "text/x-r-source",
   "name": "R",
   "pygments_lexer": "r",
   "version": "4.0.2"
  }
 },
 "nbformat": 4,
 "nbformat_minor": 2
}
